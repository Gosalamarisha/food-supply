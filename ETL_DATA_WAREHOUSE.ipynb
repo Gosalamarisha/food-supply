{
 "cells": [
  {
   "cell_type": "code",
   "execution_count": 1,
   "id": "ffa06323",
   "metadata": {},
   "outputs": [],
   "source": [
    "# ! pip install ipython-sql\n",
    "# ! pip install sqlalchemy\n",
    "# ! pip install psycopg2\n",
    "# ! pip install python-sql\n",
    "# ! pip install pandas-sql\n",
    "# ! pip install sql-queries"
   ]
  },
  {
   "cell_type": "code",
   "execution_count": 1,
   "id": "5b8c676c",
   "metadata": {},
   "outputs": [],
   "source": [
    "import pandas as pd\n",
    "import psycopg2 as ps\n",
    "import pandas.io.sql as sqlio\n",
    "import missingno as msno"
   ]
  },
  {
   "cell_type": "code",
   "execution_count": 3,
   "id": "be1096c8",
   "metadata": {},
   "outputs": [],
   "source": [
    "%reload_ext sql"
   ]
  },
  {
   "cell_type": "code",
   "execution_count": 4,
   "id": "a914c3a7",
   "metadata": {},
   "outputs": [],
   "source": [
    "from sqlalchemy import create_engine"
   ]
  },
  {
   "cell_type": "code",
   "execution_count": 5,
   "id": "0c8c887d",
   "metadata": {},
   "outputs": [],
   "source": [
    "conn2=ps.connect(dbname=\"Assignment\",\n",
    "\n",
    "               user=\"postgres\",password= \"Lkq0717@\",host=\"localhost\",\n",
    "\n",
    "                port=\"5432\")"
   ]
  },
  {
   "cell_type": "code",
   "execution_count": 6,
   "id": "ce16afaa",
   "metadata": {},
   "outputs": [],
   "source": [
    "sql=\"\"\"SELECT * FROM pg_catalog.pg_tables\"\"\""
   ]
  },
  {
   "cell_type": "code",
   "execution_count": 7,
   "id": "aa56cd94",
   "metadata": {},
   "outputs": [],
   "source": [
    "sql=\"\"\"SELECT *  FROM \"Fact_Table\"\n",
    " \"\"\""
   ]
  },
  {
   "cell_type": "code",
   "execution_count": 8,
   "id": "0e8e5d8e",
   "metadata": {},
   "outputs": [
    {
     "name": "stdout",
     "output_type": "stream",
     "text": [
      "{nan, 'Czechia', 'Viet Nam', 'United Kingdom of Great Britain and Northern Ireland', 'South Viet Nam (former)', 'United Arab Emirates', 'Uruguay', 'Cabo Verde Republic of', 'Netherlands', 'India (until 1975)', 'Ukraine', 'Uzbekistan', 'Czech Republic', 'Germany, Federal Republic (former)', 'Togo', \"CÃ´te d'Ivoire\", 'Tuvalu', 'Vanuatu', 'Kiribati (until 1984)', 'Tonga', 'TÃ¼rkiye', 'Trinidad and Tobago', 'Zambia', 'Yemen', 'Tunisia', 'United Republic of Tanzania', 'Turkmenistan', 'Zimbabwe', 'Sudan (until 2011)', 'Sudan', 'United States of America', 'Netherlands (Kingdom of the)', 'Venezuela (Bolivarian Republic of)', 'Uganda'}\n",
      "                                            non_union\n",
      "0                                                 NaN\n",
      "1                                             Czechia\n",
      "2                                            Viet Nam\n",
      "3   United Kingdom of Great Britain and Northern I...\n",
      "4                             South Viet Nam (former)\n",
      "5                                United Arab Emirates\n",
      "6                                             Uruguay\n",
      "7                              Cabo Verde Republic of\n",
      "8                                         Netherlands\n",
      "9                                  India (until 1975)\n",
      "10                                            Ukraine\n",
      "11                                         Uzbekistan\n",
      "12                                     Czech Republic\n",
      "13                 Germany, Federal Republic (former)\n",
      "14                                               Togo\n",
      "15                                     CÃ´te d'Ivoire\n",
      "16                                             Tuvalu\n",
      "17                                            Vanuatu\n",
      "18                              Kiribati (until 1984)\n",
      "19                                              Tonga\n",
      "20                                           TÃ¼rkiye\n",
      "21                                Trinidad and Tobago\n",
      "22                                             Zambia\n",
      "23                                              Yemen\n",
      "24                                            Tunisia\n",
      "25                        United Republic of Tanzania\n",
      "26                                       Turkmenistan\n",
      "27                                           Zimbabwe\n",
      "28                                 Sudan (until 2011)\n",
      "29                                              Sudan\n",
      "30                           United States of America\n",
      "31                       Netherlands (Kingdom of the)\n",
      "32                 Venezuela (Bolivarian Republic of)\n",
      "33                                             Uganda\n"
     ]
    }
   ],
   "source": [
    "import pandas as pd\n",
    "df = pd.read_excel(\"Fact_table2.xlsx\")\n",
    "# Get unique values from each column\n",
    "column1_values = set(df['country1'].unique())\n",
    "column2_values = set(df['country2'].unique())\n",
    "column3_values = set(df['country3'].unique())\n",
    "column4_values = set(df['country4'].unique())\n",
    "\n",
    "# Find the non-union of the four sets of values\n",
    "non_union = column1_values ^ column2_values ^ column3_values ^ column4_values\n",
    "\n",
    "# Convert the non-union set back to a DataFrame if desired\n",
    "non_union_df = pd.DataFrame({'non_union': list(non_union)})\n",
    "\n",
    "# Print the resulting non-union or non-union DataFrame\n",
    "print(non_union)\n",
    "print(non_union_df)\n",
    "\n"
   ]
  },
  {
   "cell_type": "code",
   "execution_count": 9,
   "id": "4bc702b8",
   "metadata": {},
   "outputs": [
    {
     "name": "stderr",
     "output_type": "stream",
     "text": [
      "C:\\Users\\lkq07\\anaconda3\\lib\\site-packages\\pandas\\io\\sql.py:762: UserWarning: pandas only support SQLAlchemy connectable(engine/connection) ordatabase string URI or sqlite3 DBAPI2 connectionother DBAPI2 objects are not tested, please consider using SQLAlchemy\n",
      "  warnings.warn(\n"
     ]
    },
    {
     "data": {
      "text/html": [
       "<div>\n",
       "<style scoped>\n",
       "    .dataframe tbody tr th:only-of-type {\n",
       "        vertical-align: middle;\n",
       "    }\n",
       "\n",
       "    .dataframe tbody tr th {\n",
       "        vertical-align: top;\n",
       "    }\n",
       "\n",
       "    .dataframe thead th {\n",
       "        text-align: right;\n",
       "    }\n",
       "</style>\n",
       "<table border=\"1\" class=\"dataframe\">\n",
       "  <thead>\n",
       "    <tr style=\"text-align: right;\">\n",
       "      <th></th>\n",
       "      <th>country_id</th>\n",
       "      <th>country</th>\n",
       "      <th>code</th>\n",
       "      <th>region</th>\n",
       "    </tr>\n",
       "  </thead>\n",
       "  <tbody>\n",
       "    <tr>\n",
       "      <th>0</th>\n",
       "      <td>83</td>\n",
       "      <td>Afghanistan</td>\n",
       "      <td>AFG</td>\n",
       "      <td>EMR</td>\n",
       "    </tr>\n",
       "    <tr>\n",
       "      <th>1</th>\n",
       "      <td>103</td>\n",
       "      <td>Albania</td>\n",
       "      <td>ALB</td>\n",
       "      <td>EUR</td>\n",
       "    </tr>\n",
       "    <tr>\n",
       "      <th>2</th>\n",
       "      <td>1</td>\n",
       "      <td>Algeria</td>\n",
       "      <td>DZA</td>\n",
       "      <td>AFR</td>\n",
       "    </tr>\n",
       "    <tr>\n",
       "      <th>3</th>\n",
       "      <td>104</td>\n",
       "      <td>Andorra</td>\n",
       "      <td>AND</td>\n",
       "      <td>EUR</td>\n",
       "    </tr>\n",
       "    <tr>\n",
       "      <th>4</th>\n",
       "      <td>2</td>\n",
       "      <td>Angola</td>\n",
       "      <td>AGO</td>\n",
       "      <td>AFR</td>\n",
       "    </tr>\n",
       "    <tr>\n",
       "      <th>...</th>\n",
       "      <td>...</td>\n",
       "      <td>...</td>\n",
       "      <td>...</td>\n",
       "      <td>...</td>\n",
       "    </tr>\n",
       "    <tr>\n",
       "      <th>187</th>\n",
       "      <td>82</td>\n",
       "      <td>Venezuela (Bolivarian Republic of)</td>\n",
       "      <td>VEN</td>\n",
       "      <td>AMR</td>\n",
       "    </tr>\n",
       "    <tr>\n",
       "      <th>188</th>\n",
       "      <td>192</td>\n",
       "      <td>Viet Nam</td>\n",
       "      <td>VNM</td>\n",
       "      <td>WPR</td>\n",
       "    </tr>\n",
       "    <tr>\n",
       "      <th>189</th>\n",
       "      <td>102</td>\n",
       "      <td>Yemen</td>\n",
       "      <td>YEM</td>\n",
       "      <td>EMR</td>\n",
       "    </tr>\n",
       "    <tr>\n",
       "      <th>190</th>\n",
       "      <td>46</td>\n",
       "      <td>Zambia</td>\n",
       "      <td>ZMB</td>\n",
       "      <td>AFR</td>\n",
       "    </tr>\n",
       "    <tr>\n",
       "      <th>191</th>\n",
       "      <td>47</td>\n",
       "      <td>Zimbabwe</td>\n",
       "      <td>ZWE</td>\n",
       "      <td>AFR</td>\n",
       "    </tr>\n",
       "  </tbody>\n",
       "</table>\n",
       "<p>192 rows × 4 columns</p>\n",
       "</div>"
      ],
      "text/plain": [
       "     country_id                             country code region\n",
       "0            83                         Afghanistan  AFG    EMR\n",
       "1           103                             Albania  ALB    EUR\n",
       "2             1                             Algeria  DZA    AFR\n",
       "3           104                             Andorra  AND    EUR\n",
       "4             2                              Angola  AGO    AFR\n",
       "..          ...                                 ...  ...    ...\n",
       "187          82  Venezuela (Bolivarian Republic of)  VEN    AMR\n",
       "188         192                            Viet Nam  VNM    WPR\n",
       "189         102                               Yemen  YEM    EMR\n",
       "190          46                              Zambia  ZMB    AFR\n",
       "191          47                            Zimbabwe  ZWE    AFR\n",
       "\n",
       "[192 rows x 4 columns]"
      ]
     },
     "execution_count": 9,
     "metadata": {},
     "output_type": "execute_result"
    }
   ],
   "source": [
    "df1=sqlio.read_sql_query(sql,conn2)\n",
    "df1"
   ]
  },
  {
   "cell_type": "code",
   "execution_count": 10,
   "id": "44a8e5f1",
   "metadata": {},
   "outputs": [
    {
     "name": "stdout",
     "output_type": "stream",
     "text": [
      "<class 'pandas.core.frame.DataFrame'>\n",
      "RangeIndex: 192 entries, 0 to 191\n",
      "Data columns (total 4 columns):\n",
      " #   Column      Non-Null Count  Dtype \n",
      "---  ------      --------------  ----- \n",
      " 0   country_id  192 non-null    int64 \n",
      " 1   country     192 non-null    object\n",
      " 2   code        192 non-null    object\n",
      " 3   region      192 non-null    object\n",
      "dtypes: int64(1), object(3)\n",
      "memory usage: 6.1+ KB\n"
     ]
    },
    {
     "data": {
      "text/plain": [
       "country_id     int64\n",
       "country       object\n",
       "code          object\n",
       "region        object\n",
       "dtype: object"
      ]
     },
     "execution_count": 10,
     "metadata": {},
     "output_type": "execute_result"
    }
   ],
   "source": [
    "df1.info()\n",
    "df1.dtypes"
   ]
  },
  {
   "cell_type": "code",
   "execution_count": 11,
   "id": "6103542e",
   "metadata": {},
   "outputs": [
    {
     "name": "stdout",
     "output_type": "stream",
     "text": [
      "     country_id                          country code region\n",
      "0            83                      Afghanistan  AFG    EMR\n",
      "1           103                          Albania  ALB    EUR\n",
      "2             1                          Algeria  DZA    AFR\n",
      "3           104                          Andorra  AND    EUR\n",
      "4             2                           Angola  AGO    AFR\n",
      "..          ...                              ...  ...    ...\n",
      "168         164                         Thailand  THA   SEAR\n",
      "169         150  The Republic of North Macedonia  MKD    EUR\n",
      "170         165                      Timor-Leste  TLS   SEAR\n",
      "175         151                           Turkey  TUR    EUR\n",
      "181         154                   United Kingdom  GBR    EUR\n",
      "\n",
      "[169 rows x 4 columns]\n"
     ]
    }
   ],
   "source": [
    "# Drop rows with non-union countries\n",
    "df1 = df1[~df1['country'].isin(non_union_df['non_union'])]\n",
    "\n",
    "# Print the updated DataFrame\n",
    "print(df1)\n"
   ]
  },
  {
   "cell_type": "code",
   "execution_count": 12,
   "id": "6cbed90e",
   "metadata": {},
   "outputs": [
    {
     "data": {
      "text/plain": [
       "<AxesSubplot:>"
      ]
     },
     "execution_count": 12,
     "metadata": {},
     "output_type": "execute_result"
    },
    {
     "data": {
      "image/png": "[encoded data removed]",
      "text/plain": [
       "<Figure size 2500x1000 with 2 Axes>"
      ]
     },
     "metadata": {},
     "output_type": "display_data"
    }
   ],
   "source": [
    "msno.matrix(df1)"
   ]
  },
  {
   "cell_type": "code",
   "execution_count": 13,
   "id": "8f832a4c",
   "metadata": {},
   "outputs": [
    {
     "name": "stdout",
     "output_type": "stream",
     "text": [
      "<class 'pandas.core.frame.DataFrame'>\n",
      "Int64Index: 169 entries, 0 to 181\n",
      "Data columns (total 4 columns):\n",
      " #   Column      Non-Null Count  Dtype \n",
      "---  ------      --------------  ----- \n",
      " 0   country_id  169 non-null    int64 \n",
      " 1   country     169 non-null    object\n",
      " 2   code        169 non-null    object\n",
      " 3   region      169 non-null    object\n",
      "dtypes: int64(1), object(3)\n",
      "memory usage: 6.6+ KB\n"
     ]
    }
   ],
   "source": [
    "df1.info()"
   ]
  },
  {
   "cell_type": "code",
   "execution_count": 14,
   "id": "0dbb1df3",
   "metadata": {},
   "outputs": [],
   "source": [
    "df1.to_csv(\"Clean_Fact_table.csv\", index=False)"
   ]
  },
  {
   "cell_type": "code",
   "execution_count": 15,
   "id": "b94b95c7",
   "metadata": {},
   "outputs": [],
   "source": [
    "sql=\"\"\"SELECT * FROM \"GHED\"\n",
    " \"\"\""
   ]
  },
  {
   "cell_type": "code",
   "execution_count": 16,
   "id": "b93636d7",
   "metadata": {},
   "outputs": [
    {
     "name": "stderr",
     "output_type": "stream",
     "text": [
      "C:\\Users\\lkq07\\anaconda3\\lib\\site-packages\\pandas\\io\\sql.py:762: UserWarning: pandas only support SQLAlchemy connectable(engine/connection) ordatabase string URI or sqlite3 DBAPI2 connectionother DBAPI2 objects are not tested, please consider using SQLAlchemy\n",
      "  warnings.warn(\n"
     ]
    },
    {
     "data": {
      "text/html": [
       "<div>\n",
       "<style scoped>\n",
       "    .dataframe tbody tr th:only-of-type {\n",
       "        vertical-align: middle;\n",
       "    }\n",
       "\n",
       "    .dataframe tbody tr th {\n",
       "        vertical-align: top;\n",
       "    }\n",
       "\n",
       "    .dataframe thead th {\n",
       "        text-align: right;\n",
       "    }\n",
       "</style>\n",
       "<table border=\"1\" class=\"dataframe\">\n",
       "  <thead>\n",
       "    <tr style=\"text-align: right;\">\n",
       "      <th></th>\n",
       "      <th>country</th>\n",
       "      <th>code</th>\n",
       "      <th>region</th>\n",
       "      <th>income</th>\n",
       "      <th>year</th>\n",
       "      <th>che_gdp</th>\n",
       "      <th>gdp</th>\n",
       "    </tr>\n",
       "  </thead>\n",
       "  <tbody>\n",
       "    <tr>\n",
       "      <th>0</th>\n",
       "      <td>Algeria</td>\n",
       "      <td>DZA</td>\n",
       "      <td>AFR</td>\n",
       "      <td>Lower-middle</td>\n",
       "      <td>2000.0</td>\n",
       "      <td>3.489033</td>\n",
       "      <td>4.123500e+06</td>\n",
       "    </tr>\n",
       "    <tr>\n",
       "      <th>1</th>\n",
       "      <td>Algeria</td>\n",
       "      <td>DZA</td>\n",
       "      <td>AFR</td>\n",
       "      <td>Lower-middle</td>\n",
       "      <td>2001.0</td>\n",
       "      <td>3.837877</td>\n",
       "      <td>4.227100e+06</td>\n",
       "    </tr>\n",
       "    <tr>\n",
       "      <th>2</th>\n",
       "      <td>Algeria</td>\n",
       "      <td>DZA</td>\n",
       "      <td>AFR</td>\n",
       "      <td>Lower-middle</td>\n",
       "      <td>2002.0</td>\n",
       "      <td>3.730042</td>\n",
       "      <td>4.522800e+06</td>\n",
       "    </tr>\n",
       "    <tr>\n",
       "      <th>3</th>\n",
       "      <td>Algeria</td>\n",
       "      <td>DZA</td>\n",
       "      <td>AFR</td>\n",
       "      <td>Lower-middle</td>\n",
       "      <td>2003.0</td>\n",
       "      <td>3.601041</td>\n",
       "      <td>5.252300e+06</td>\n",
       "    </tr>\n",
       "    <tr>\n",
       "      <th>4</th>\n",
       "      <td>Algeria</td>\n",
       "      <td>DZA</td>\n",
       "      <td>AFR</td>\n",
       "      <td>Lower-middle</td>\n",
       "      <td>2004.0</td>\n",
       "      <td>3.544073</td>\n",
       "      <td>6.149100e+06</td>\n",
       "    </tr>\n",
       "    <tr>\n",
       "      <th>...</th>\n",
       "      <td>...</td>\n",
       "      <td>...</td>\n",
       "      <td>...</td>\n",
       "      <td>...</td>\n",
       "      <td>...</td>\n",
       "      <td>...</td>\n",
       "      <td>...</td>\n",
       "    </tr>\n",
       "    <tr>\n",
       "      <th>4219</th>\n",
       "      <td>Viet Nam</td>\n",
       "      <td>VNM</td>\n",
       "      <td>WPR</td>\n",
       "      <td>Lower-middle</td>\n",
       "      <td>2017.0</td>\n",
       "      <td>4.712835</td>\n",
       "      <td>6.293905e+09</td>\n",
       "    </tr>\n",
       "    <tr>\n",
       "      <th>4220</th>\n",
       "      <td>Viet Nam</td>\n",
       "      <td>VNM</td>\n",
       "      <td>WPR</td>\n",
       "      <td>Lower-middle</td>\n",
       "      <td>2018.0</td>\n",
       "      <td>5.049667</td>\n",
       "      <td>6.977294e+09</td>\n",
       "    </tr>\n",
       "    <tr>\n",
       "      <th>4221</th>\n",
       "      <td>Viet Nam</td>\n",
       "      <td>VNM</td>\n",
       "      <td>WPR</td>\n",
       "      <td>Lower-middle</td>\n",
       "      <td>2019.0</td>\n",
       "      <td>5.033952</td>\n",
       "      <td>7.615568e+09</td>\n",
       "    </tr>\n",
       "    <tr>\n",
       "      <th>4222</th>\n",
       "      <td>Viet Nam</td>\n",
       "      <td>VNM</td>\n",
       "      <td>WPR</td>\n",
       "      <td>Lower-middle</td>\n",
       "      <td>2020.0</td>\n",
       "      <td>4.680668</td>\n",
       "      <td>7.966122e+09</td>\n",
       "    </tr>\n",
       "    <tr>\n",
       "      <th>4223</th>\n",
       "      <td>Viet Nam</td>\n",
       "      <td>VNM</td>\n",
       "      <td>WPR</td>\n",
       "      <td>Lower-middle</td>\n",
       "      <td>2021.0</td>\n",
       "      <td>NaN</td>\n",
       "      <td>NaN</td>\n",
       "    </tr>\n",
       "  </tbody>\n",
       "</table>\n",
       "<p>4224 rows × 7 columns</p>\n",
       "</div>"
      ],
      "text/plain": [
       "       country code region        income    year   che_gdp           gdp\n",
       "0      Algeria  DZA    AFR  Lower-middle  2000.0  3.489033  4.123500e+06\n",
       "1      Algeria  DZA    AFR  Lower-middle  2001.0  3.837877  4.227100e+06\n",
       "2      Algeria  DZA    AFR  Lower-middle  2002.0  3.730042  4.522800e+06\n",
       "3      Algeria  DZA    AFR  Lower-middle  2003.0  3.601041  5.252300e+06\n",
       "4      Algeria  DZA    AFR  Lower-middle  2004.0  3.544073  6.149100e+06\n",
       "...        ...  ...    ...           ...     ...       ...           ...\n",
       "4219  Viet Nam  VNM    WPR  Lower-middle  2017.0  4.712835  6.293905e+09\n",
       "4220  Viet Nam  VNM    WPR  Lower-middle  2018.0  5.049667  6.977294e+09\n",
       "4221  Viet Nam  VNM    WPR  Lower-middle  2019.0  5.033952  7.615568e+09\n",
       "4222  Viet Nam  VNM    WPR  Lower-middle  2020.0  4.680668  7.966122e+09\n",
       "4223  Viet Nam  VNM    WPR  Lower-middle  2021.0       NaN           NaN\n",
       "\n",
       "[4224 rows x 7 columns]"
      ]
     },
     "execution_count": 16,
     "metadata": {},
     "output_type": "execute_result"
    }
   ],
   "source": [
    "df2=sqlio.read_sql_query(sql,conn2)\n",
    "df2"
   ]
  },
  {
   "cell_type": "code",
   "execution_count": 17,
   "id": "b729e039",
   "metadata": {},
   "outputs": [
    {
     "name": "stdout",
     "output_type": "stream",
     "text": [
      "<class 'pandas.core.frame.DataFrame'>\n",
      "RangeIndex: 4224 entries, 0 to 4223\n",
      "Data columns (total 7 columns):\n",
      " #   Column   Non-Null Count  Dtype  \n",
      "---  ------   --------------  -----  \n",
      " 0   country  4224 non-null   object \n",
      " 1   code     4224 non-null   object \n",
      " 2   region   4224 non-null   object \n",
      " 3   income   4224 non-null   object \n",
      " 4   year     4224 non-null   float64\n",
      " 5   che_gdp  3981 non-null   float64\n",
      " 6   gdp      4006 non-null   float64\n",
      "dtypes: float64(3), object(4)\n",
      "memory usage: 231.1+ KB\n"
     ]
    },
    {
     "data": {
      "text/plain": [
       "country     object\n",
       "code        object\n",
       "region      object\n",
       "income      object\n",
       "year       float64\n",
       "che_gdp    float64\n",
       "gdp        float64\n",
       "dtype: object"
      ]
     },
     "execution_count": 17,
     "metadata": {},
     "output_type": "execute_result"
    }
   ],
   "source": [
    "df2.info()\n",
    "df2.dtypes"
   ]
  },
  {
   "cell_type": "code",
   "execution_count": 18,
   "id": "fa1daa2a",
   "metadata": {},
   "outputs": [
    {
     "data": {
      "text/plain": [
       "<AxesSubplot:>"
      ]
     },
     "execution_count": 18,
     "metadata": {},
     "output_type": "execute_result"
    },
    {
     "data": {
      "image/png": "[encoded data removed]",
      "text/plain": [
       "<Figure size 2500x1000 with 2 Axes>"
      ]
     },
     "metadata": {},
     "output_type": "display_data"
    }
   ],
   "source": [
    "msno.matrix(df2)"
   ]
  },
  {
   "cell_type": "code",
   "execution_count": 19,
   "id": "cf10115b",
   "metadata": {},
   "outputs": [
    {
     "name": "stdout",
     "output_type": "stream",
     "text": [
      "              country code region        income    year   che_gdp        gdp\n",
      "0             Algeria  DZA    AFR  Lower-middle  2000.0  3.489033  4123500.0\n",
      "1             Algeria  DZA    AFR  Lower-middle  2001.0  3.837877  4227100.0\n",
      "2             Algeria  DZA    AFR  Lower-middle  2002.0  3.730042  4522800.0\n",
      "3             Algeria  DZA    AFR  Lower-middle  2003.0  3.601041  5252300.0\n",
      "4             Algeria  DZA    AFR  Lower-middle  2004.0  3.544073  6149100.0\n",
      "...               ...  ...    ...           ...     ...       ...        ...\n",
      "4131  Solomon Islands  SLB    WPR  Lower-middle  2017.0  4.110919    11703.0\n",
      "4132  Solomon Islands  SLB    WPR  Lower-middle  2018.0  3.871730    12522.0\n",
      "4133  Solomon Islands  SLB    WPR  Lower-middle  2019.0  4.462586    12833.0\n",
      "4134  Solomon Islands  SLB    WPR  Lower-middle  2020.0  4.432182    12697.0\n",
      "4135  Solomon Islands  SLB    WPR  Lower-middle  2021.0       NaN        NaN\n",
      "\n",
      "[3718 rows x 7 columns]\n"
     ]
    }
   ],
   "source": [
    "# Drop rows with non-union countries\n",
    "df2 = df2[~df2['country'].isin(non_union_df['non_union'])]\n",
    "print(df2)"
   ]
  },
  {
   "cell_type": "code",
   "execution_count": 20,
   "id": "6fc48367",
   "metadata": {},
   "outputs": [
    {
     "name": "stderr",
     "output_type": "stream",
     "text": [
      "C:\\Users\\lkq07\\AppData\\Local\\Temp\\ipykernel_13212\\3069268374.py:1: SettingWithCopyWarning: \n",
      "A value is trying to be set on a copy of a slice from a DataFrame\n",
      "\n",
      "See the caveats in the documentation: https://pandas.pydata.org/pandas-docs/stable/user_guide/indexing.html#returning-a-view-versus-a-copy\n",
      "  df2['che_gdp'].fillna(df2['che_gdp'].mean(), inplace=True)\n"
     ]
    }
   ],
   "source": [
    "df2['che_gdp'].fillna(df2['che_gdp'].mean(), inplace=True)"
   ]
  },
  {
   "cell_type": "code",
   "execution_count": 21,
   "id": "ba80c75d",
   "metadata": {},
   "outputs": [
    {
     "name": "stderr",
     "output_type": "stream",
     "text": [
      "C:\\Users\\lkq07\\AppData\\Local\\Temp\\ipykernel_13212\\1556629606.py:1: SettingWithCopyWarning: \n",
      "A value is trying to be set on a copy of a slice from a DataFrame\n",
      "\n",
      "See the caveats in the documentation: https://pandas.pydata.org/pandas-docs/stable/user_guide/indexing.html#returning-a-view-versus-a-copy\n",
      "  df2['gdp'].fillna(df2['gdp'].mean(), inplace=True)\n"
     ]
    }
   ],
   "source": [
    "df2['gdp'].fillna(df2['gdp'].mean(), inplace=True)"
   ]
  },
  {
   "cell_type": "code",
   "execution_count": 22,
   "id": "2301d559",
   "metadata": {},
   "outputs": [
    {
     "name": "stdout",
     "output_type": "stream",
     "text": [
      "<class 'pandas.core.frame.DataFrame'>\n",
      "Int64Index: 3718 entries, 0 to 4135\n",
      "Data columns (total 7 columns):\n",
      " #   Column   Non-Null Count  Dtype  \n",
      "---  ------   --------------  -----  \n",
      " 0   country  3718 non-null   object \n",
      " 1   code     3718 non-null   object \n",
      " 2   region   3718 non-null   object \n",
      " 3   income   3718 non-null   object \n",
      " 4   year     3718 non-null   float64\n",
      " 5   che_gdp  3718 non-null   float64\n",
      " 6   gdp      3718 non-null   float64\n",
      "dtypes: float64(3), object(4)\n",
      "memory usage: 232.4+ KB\n"
     ]
    }
   ],
   "source": [
    "df2.info()"
   ]
  },
  {
   "cell_type": "code",
   "execution_count": 23,
   "id": "2dad6dc5",
   "metadata": {},
   "outputs": [],
   "source": [
    "df2.to_csv(\"Clean_GHED.csv\", index=False)"
   ]
  },
  {
   "cell_type": "code",
   "execution_count": 24,
   "id": "e1618d0e",
   "metadata": {},
   "outputs": [],
   "source": [
    "sql=\"\"\"Select * FROM\"Life_Expectancy_At_Birth\"\n",
    " \"\"\""
   ]
  },
  {
   "cell_type": "code",
   "execution_count": 25,
   "id": "5ff298de",
   "metadata": {},
   "outputs": [
    {
     "name": "stderr",
     "output_type": "stream",
     "text": [
      "C:\\Users\\lkq07\\anaconda3\\lib\\site-packages\\pandas\\io\\sql.py:762: UserWarning: pandas only support SQLAlchemy connectable(engine/connection) ordatabase string URI or sqlite3 DBAPI2 connectionother DBAPI2 objects are not tested, please consider using SQLAlchemy\n",
      "  warnings.warn(\n"
     ]
    },
    {
     "data": {
      "text/html": [
       "<div>\n",
       "<style scoped>\n",
       "    .dataframe tbody tr th:only-of-type {\n",
       "        vertical-align: middle;\n",
       "    }\n",
       "\n",
       "    .dataframe tbody tr th {\n",
       "        vertical-align: top;\n",
       "    }\n",
       "\n",
       "    .dataframe thead th {\n",
       "        text-align: right;\n",
       "    }\n",
       "</style>\n",
       "<table border=\"1\" class=\"dataframe\">\n",
       "  <thead>\n",
       "    <tr style=\"text-align: right;\">\n",
       "      <th></th>\n",
       "      <th>country</th>\n",
       "      <th>Period</th>\n",
       "      <th>Indicator</th>\n",
       "      <th>Dim1</th>\n",
       "      <th>First_Tooltip</th>\n",
       "    </tr>\n",
       "  </thead>\n",
       "  <tbody>\n",
       "    <tr>\n",
       "      <th>0</th>\n",
       "      <td>Afghanistan</td>\n",
       "      <td>2019.0</td>\n",
       "      <td>Life expectancy at birth (years)</td>\n",
       "      <td>Both sexes</td>\n",
       "      <td>63.21</td>\n",
       "    </tr>\n",
       "    <tr>\n",
       "      <th>1</th>\n",
       "      <td>Afghanistan</td>\n",
       "      <td>2019.0</td>\n",
       "      <td>Life expectancy at birth (years)</td>\n",
       "      <td>Male</td>\n",
       "      <td>63.29</td>\n",
       "    </tr>\n",
       "    <tr>\n",
       "      <th>2</th>\n",
       "      <td>Afghanistan</td>\n",
       "      <td>2019.0</td>\n",
       "      <td>Life expectancy at birth (years)</td>\n",
       "      <td>Female</td>\n",
       "      <td>63.16</td>\n",
       "    </tr>\n",
       "    <tr>\n",
       "      <th>3</th>\n",
       "      <td>Afghanistan</td>\n",
       "      <td>2015.0</td>\n",
       "      <td>Life expectancy at birth (years)</td>\n",
       "      <td>Both sexes</td>\n",
       "      <td>61.65</td>\n",
       "    </tr>\n",
       "    <tr>\n",
       "      <th>4</th>\n",
       "      <td>Afghanistan</td>\n",
       "      <td>2015.0</td>\n",
       "      <td>Life expectancy at birth (years)</td>\n",
       "      <td>Male</td>\n",
       "      <td>61.04</td>\n",
       "    </tr>\n",
       "    <tr>\n",
       "      <th>...</th>\n",
       "      <td>...</td>\n",
       "      <td>...</td>\n",
       "      <td>...</td>\n",
       "      <td>...</td>\n",
       "      <td>...</td>\n",
       "    </tr>\n",
       "    <tr>\n",
       "      <th>2192</th>\n",
       "      <td>Zimbabwe</td>\n",
       "      <td>2010.0</td>\n",
       "      <td>Life expectancy at birth (years)</td>\n",
       "      <td>Male</td>\n",
       "      <td>49.58</td>\n",
       "    </tr>\n",
       "    <tr>\n",
       "      <th>2193</th>\n",
       "      <td>Zimbabwe</td>\n",
       "      <td>2010.0</td>\n",
       "      <td>Life expectancy at birth (years)</td>\n",
       "      <td>Female</td>\n",
       "      <td>53.21</td>\n",
       "    </tr>\n",
       "    <tr>\n",
       "      <th>2194</th>\n",
       "      <td>Zimbabwe</td>\n",
       "      <td>2000.0</td>\n",
       "      <td>Life expectancy at birth (years)</td>\n",
       "      <td>Both sexes</td>\n",
       "      <td>46.57</td>\n",
       "    </tr>\n",
       "    <tr>\n",
       "      <th>2195</th>\n",
       "      <td>Zimbabwe</td>\n",
       "      <td>2000.0</td>\n",
       "      <td>Life expectancy at birth (years)</td>\n",
       "      <td>Male</td>\n",
       "      <td>45.15</td>\n",
       "    </tr>\n",
       "    <tr>\n",
       "      <th>2196</th>\n",
       "      <td>Zimbabwe</td>\n",
       "      <td>2000.0</td>\n",
       "      <td>Life expectancy at birth (years)</td>\n",
       "      <td>Female</td>\n",
       "      <td>48.12</td>\n",
       "    </tr>\n",
       "  </tbody>\n",
       "</table>\n",
       "<p>2197 rows × 5 columns</p>\n",
       "</div>"
      ],
      "text/plain": [
       "          country  Period                         Indicator        Dim1  \\\n",
       "0     Afghanistan  2019.0  Life expectancy at birth (years)  Both sexes   \n",
       "1     Afghanistan  2019.0  Life expectancy at birth (years)        Male   \n",
       "2     Afghanistan  2019.0  Life expectancy at birth (years)      Female   \n",
       "3     Afghanistan  2015.0  Life expectancy at birth (years)  Both sexes   \n",
       "4     Afghanistan  2015.0  Life expectancy at birth (years)        Male   \n",
       "...           ...     ...                               ...         ...   \n",
       "2192     Zimbabwe  2010.0  Life expectancy at birth (years)        Male   \n",
       "2193     Zimbabwe  2010.0  Life expectancy at birth (years)      Female   \n",
       "2194     Zimbabwe  2000.0  Life expectancy at birth (years)  Both sexes   \n",
       "2195     Zimbabwe  2000.0  Life expectancy at birth (years)        Male   \n",
       "2196     Zimbabwe  2000.0  Life expectancy at birth (years)      Female   \n",
       "\n",
       "      First_Tooltip  \n",
       "0             63.21  \n",
       "1             63.29  \n",
       "2             63.16  \n",
       "3             61.65  \n",
       "4             61.04  \n",
       "...             ...  \n",
       "2192          49.58  \n",
       "2193          53.21  \n",
       "2194          46.57  \n",
       "2195          45.15  \n",
       "2196          48.12  \n",
       "\n",
       "[2197 rows x 5 columns]"
      ]
     },
     "execution_count": 25,
     "metadata": {},
     "output_type": "execute_result"
    }
   ],
   "source": [
    "df3=sqlio.read_sql_query(sql,conn2)\n",
    "df3"
   ]
  },
  {
   "cell_type": "code",
   "execution_count": 26,
   "id": "65ece28c",
   "metadata": {},
   "outputs": [
    {
     "name": "stdout",
     "output_type": "stream",
     "text": [
      "<class 'pandas.core.frame.DataFrame'>\n",
      "RangeIndex: 2197 entries, 0 to 2196\n",
      "Data columns (total 5 columns):\n",
      " #   Column         Non-Null Count  Dtype  \n",
      "---  ------         --------------  -----  \n",
      " 0   country        2197 non-null   object \n",
      " 1   Period         2197 non-null   float64\n",
      " 2   Indicator      2197 non-null   object \n",
      " 3   Dim1           2197 non-null   object \n",
      " 4   First_Tooltip  2197 non-null   float64\n",
      "dtypes: float64(2), object(3)\n",
      "memory usage: 85.9+ KB\n"
     ]
    },
    {
     "data": {
      "text/plain": [
       "country           object\n",
       "Period           float64\n",
       "Indicator         object\n",
       "Dim1              object\n",
       "First_Tooltip    float64\n",
       "dtype: object"
      ]
     },
     "execution_count": 26,
     "metadata": {},
     "output_type": "execute_result"
    }
   ],
   "source": [
    "df3.info()\n",
    "df3.dtypes"
   ]
  },
  {
   "cell_type": "code",
   "execution_count": 27,
   "id": "58ccefaa",
   "metadata": {},
   "outputs": [
    {
     "data": {
      "text/plain": [
       "<AxesSubplot:>"
      ]
     },
     "execution_count": 27,
     "metadata": {},
     "output_type": "execute_result"
    },
    {
     "data": {
      "image/png": "[encoded data removed]",
      "text/plain": [
       "<Figure size 2500x1000 with 2 Axes>"
      ]
     },
     "metadata": {},
     "output_type": "display_data"
    }
   ],
   "source": [
    "msno.matrix(df3)"
   ]
  },
  {
   "cell_type": "code",
   "execution_count": 28,
   "id": "7ce6329d",
   "metadata": {},
   "outputs": [
    {
     "name": "stdout",
     "output_type": "stream",
     "text": [
      "          country    year        Dim1  Life expectancy at birth (years)\n",
      "0     Afghanistan  2019.0  Both sexes                             63.21\n",
      "1     Afghanistan  2019.0        Male                             63.29\n",
      "2     Afghanistan  2019.0      Female                             63.16\n",
      "3     Afghanistan  2015.0  Both sexes                             61.65\n",
      "4     Afghanistan  2015.0        Male                             61.04\n",
      "...           ...     ...         ...                               ...\n",
      "2012       Turkey  2010.0        Male                             74.65\n",
      "2013       Turkey  2010.0      Female                             79.08\n",
      "2014       Turkey  2000.0  Both sexes                             74.41\n",
      "2015       Turkey  2000.0        Male                             71.94\n",
      "2016       Turkey  2000.0      Female                             76.85\n",
      "\n",
      "[1933 rows x 4 columns]\n"
     ]
    }
   ],
   "source": [
    "# Drop rows with non-union countries\n",
    "df3 = df3[~df3['country'].isin(non_union_df['non_union'])]\n",
    "\n",
    "# Replace column name\n",
    "df3 = df3.rename(columns={'First_Tooltip': 'Life expectancy at birth (years)'})\n",
    "df3 = df3.rename(columns={'Period': 'year'})\n",
    "# Delete the 'Indicator' column\n",
    "df3 = df3.drop('Indicator', axis=1)\n",
    "\n",
    "# Print the modified DataFrame\n",
    "print(df3)\n",
    "\n"
   ]
  },
  {
   "cell_type": "code",
   "execution_count": 29,
   "id": "a9be800e",
   "metadata": {},
   "outputs": [
    {
     "name": "stdout",
     "output_type": "stream",
     "text": [
      "<class 'pandas.core.frame.DataFrame'>\n",
      "Int64Index: 1933 entries, 0 to 2016\n",
      "Data columns (total 4 columns):\n",
      " #   Column                            Non-Null Count  Dtype  \n",
      "---  ------                            --------------  -----  \n",
      " 0   country                           1933 non-null   object \n",
      " 1   year                              1933 non-null   float64\n",
      " 2   Dim1                              1933 non-null   object \n",
      " 3   Life expectancy at birth (years)  1933 non-null   float64\n",
      "dtypes: float64(2), object(2)\n",
      "memory usage: 75.5+ KB\n"
     ]
    }
   ],
   "source": [
    "df3.info()"
   ]
  },
  {
   "cell_type": "code",
   "execution_count": 30,
   "id": "6c4d291b",
   "metadata": {},
   "outputs": [],
   "source": [
    "df3.to_csv(\"Clean_Life_Expectancy_At_Birth.csv\", index=False)"
   ]
  },
  {
   "cell_type": "code",
   "execution_count": 31,
   "id": "73a02225",
   "metadata": {},
   "outputs": [],
   "source": [
    "sql=\"\"\"SELECT * FROM \"Universal_Health_Coverage\"\n",
    " \"\"\""
   ]
  },
  {
   "cell_type": "code",
   "execution_count": 32,
   "id": "f0a5d5bb",
   "metadata": {},
   "outputs": [
    {
     "name": "stderr",
     "output_type": "stream",
     "text": [
      "C:\\Users\\lkq07\\anaconda3\\lib\\site-packages\\pandas\\io\\sql.py:762: UserWarning: pandas only support SQLAlchemy connectable(engine/connection) ordatabase string URI or sqlite3 DBAPI2 connectionother DBAPI2 objects are not tested, please consider using SQLAlchemy\n",
      "  warnings.warn(\n"
     ]
    },
    {
     "data": {
      "text/html": [
       "<div>\n",
       "<style scoped>\n",
       "    .dataframe tbody tr th:only-of-type {\n",
       "        vertical-align: middle;\n",
       "    }\n",
       "\n",
       "    .dataframe tbody tr th {\n",
       "        vertical-align: top;\n",
       "    }\n",
       "\n",
       "    .dataframe thead th {\n",
       "        text-align: right;\n",
       "    }\n",
       "</style>\n",
       "<table border=\"1\" class=\"dataframe\">\n",
       "  <thead>\n",
       "    <tr style=\"text-align: right;\">\n",
       "      <th></th>\n",
       "      <th>country</th>\n",
       "      <th>Indicator</th>\n",
       "      <th>Period</th>\n",
       "      <th>First Tooltip</th>\n",
       "    </tr>\n",
       "  </thead>\n",
       "  <tbody>\n",
       "    <tr>\n",
       "      <th>0</th>\n",
       "      <td>Afghanistan</td>\n",
       "      <td>UHC index of essential service coverage</td>\n",
       "      <td>2017.0</td>\n",
       "      <td>37.0</td>\n",
       "    </tr>\n",
       "    <tr>\n",
       "      <th>1</th>\n",
       "      <td>Afghanistan</td>\n",
       "      <td>UHC index of essential service coverage</td>\n",
       "      <td>2015.0</td>\n",
       "      <td>34.0</td>\n",
       "    </tr>\n",
       "    <tr>\n",
       "      <th>2</th>\n",
       "      <td>Albania</td>\n",
       "      <td>UHC index of essential service coverage</td>\n",
       "      <td>2017.0</td>\n",
       "      <td>59.0</td>\n",
       "    </tr>\n",
       "    <tr>\n",
       "      <th>3</th>\n",
       "      <td>Albania</td>\n",
       "      <td>UHC index of essential service coverage</td>\n",
       "      <td>2015.0</td>\n",
       "      <td>58.0</td>\n",
       "    </tr>\n",
       "    <tr>\n",
       "      <th>4</th>\n",
       "      <td>Algeria</td>\n",
       "      <td>UHC index of essential service coverage</td>\n",
       "      <td>2017.0</td>\n",
       "      <td>78.0</td>\n",
       "    </tr>\n",
       "    <tr>\n",
       "      <th>...</th>\n",
       "      <td>...</td>\n",
       "      <td>...</td>\n",
       "      <td>...</td>\n",
       "      <td>...</td>\n",
       "    </tr>\n",
       "    <tr>\n",
       "      <th>361</th>\n",
       "      <td>Yemen</td>\n",
       "      <td>UHC index of essential service coverage</td>\n",
       "      <td>2015.0</td>\n",
       "      <td>40.0</td>\n",
       "    </tr>\n",
       "    <tr>\n",
       "      <th>362</th>\n",
       "      <td>Zambia</td>\n",
       "      <td>UHC index of essential service coverage</td>\n",
       "      <td>2017.0</td>\n",
       "      <td>53.0</td>\n",
       "    </tr>\n",
       "    <tr>\n",
       "      <th>363</th>\n",
       "      <td>Zambia</td>\n",
       "      <td>UHC index of essential service coverage</td>\n",
       "      <td>2015.0</td>\n",
       "      <td>54.0</td>\n",
       "    </tr>\n",
       "    <tr>\n",
       "      <th>364</th>\n",
       "      <td>Zimbabwe</td>\n",
       "      <td>UHC index of essential service coverage</td>\n",
       "      <td>2017.0</td>\n",
       "      <td>54.0</td>\n",
       "    </tr>\n",
       "    <tr>\n",
       "      <th>365</th>\n",
       "      <td>Zimbabwe</td>\n",
       "      <td>UHC index of essential service coverage</td>\n",
       "      <td>2015.0</td>\n",
       "      <td>54.0</td>\n",
       "    </tr>\n",
       "  </tbody>\n",
       "</table>\n",
       "<p>366 rows × 4 columns</p>\n",
       "</div>"
      ],
      "text/plain": [
       "         country                                Indicator  Period  \\\n",
       "0    Afghanistan  UHC index of essential service coverage  2017.0   \n",
       "1    Afghanistan  UHC index of essential service coverage  2015.0   \n",
       "2        Albania  UHC index of essential service coverage  2017.0   \n",
       "3        Albania  UHC index of essential service coverage  2015.0   \n",
       "4        Algeria  UHC index of essential service coverage  2017.0   \n",
       "..           ...                                      ...     ...   \n",
       "361        Yemen  UHC index of essential service coverage  2015.0   \n",
       "362       Zambia  UHC index of essential service coverage  2017.0   \n",
       "363       Zambia  UHC index of essential service coverage  2015.0   \n",
       "364     Zimbabwe  UHC index of essential service coverage  2017.0   \n",
       "365     Zimbabwe  UHC index of essential service coverage  2015.0   \n",
       "\n",
       "     First Tooltip  \n",
       "0             37.0  \n",
       "1             34.0  \n",
       "2             59.0  \n",
       "3             58.0  \n",
       "4             78.0  \n",
       "..             ...  \n",
       "361           40.0  \n",
       "362           53.0  \n",
       "363           54.0  \n",
       "364           54.0  \n",
       "365           54.0  \n",
       "\n",
       "[366 rows x 4 columns]"
      ]
     },
     "execution_count": 32,
     "metadata": {},
     "output_type": "execute_result"
    }
   ],
   "source": [
    "df4=sqlio.read_sql_query(sql,conn2)\n",
    "df4"
   ]
  },
  {
   "cell_type": "code",
   "execution_count": 33,
   "id": "e2b6e67e",
   "metadata": {},
   "outputs": [
    {
     "name": "stdout",
     "output_type": "stream",
     "text": [
      "<class 'pandas.core.frame.DataFrame'>\n",
      "RangeIndex: 366 entries, 0 to 365\n",
      "Data columns (total 4 columns):\n",
      " #   Column         Non-Null Count  Dtype  \n",
      "---  ------         --------------  -----  \n",
      " 0   country        366 non-null    object \n",
      " 1   Indicator      366 non-null    object \n",
      " 2   Period         366 non-null    float64\n",
      " 3   First Tooltip  366 non-null    float64\n",
      "dtypes: float64(2), object(2)\n",
      "memory usage: 11.6+ KB\n"
     ]
    },
    {
     "data": {
      "text/plain": [
       "country           object\n",
       "Indicator         object\n",
       "Period           float64\n",
       "First Tooltip    float64\n",
       "dtype: object"
      ]
     },
     "execution_count": 33,
     "metadata": {},
     "output_type": "execute_result"
    }
   ],
   "source": [
    "df4.info()\n",
    "df4.dtypes"
   ]
  },
  {
   "cell_type": "code",
   "execution_count": 34,
   "id": "0a69a3c5",
   "metadata": {},
   "outputs": [
    {
     "data": {
      "text/plain": [
       "<AxesSubplot:>"
      ]
     },
     "execution_count": 34,
     "metadata": {},
     "output_type": "execute_result"
    },
    {
     "data": {
      "image/png": "[encoded data removed]",
      "text/plain": [
       "<Figure size 2500x1000 with 2 Axes>"
      ]
     },
     "metadata": {},
     "output_type": "display_data"
    }
   ],
   "source": [
    "msno.matrix(df4)"
   ]
  },
  {
   "cell_type": "code",
   "execution_count": 35,
   "id": "635dea83",
   "metadata": {},
   "outputs": [
    {
     "name": "stdout",
     "output_type": "stream",
     "text": [
      "         country    year  UHC index of essential service coverage\n",
      "0    Afghanistan  2017.0                                     37.0\n",
      "1    Afghanistan  2015.0                                     34.0\n",
      "2        Albania  2017.0                                     59.0\n",
      "3        Albania  2015.0                                     58.0\n",
      "4        Algeria  2017.0                                     78.0\n",
      "..           ...     ...                                      ...\n",
      "323     Thailand  2015.0                                     75.0\n",
      "324  Timor-Leste  2017.0                                     52.0\n",
      "325  Timor-Leste  2015.0                                     49.0\n",
      "334       Turkey  2017.0                                     74.0\n",
      "335       Turkey  2015.0                                     71.0\n",
      "\n",
      "[322 rows x 3 columns]\n"
     ]
    }
   ],
   "source": [
    "# Drop rows with non-union countries\n",
    "df4 = df4[~df4['country'].isin(non_union_df['non_union'])]\n",
    "\n",
    "# Replace column name\n",
    "df4 = df4.rename(columns={'First Tooltip': 'UHC index of essential service coverage'})\n",
    "df4 = df4.rename(columns={'Period': 'year'})\n",
    "# Delete the 'Indicator' column\n",
    "df4 = df4.drop('Indicator', axis=1)\n",
    "\n",
    "# Print the modified DataFrame\n",
    "print(df4)\n",
    "\n"
   ]
  },
  {
   "cell_type": "code",
   "execution_count": 36,
   "id": "a9b12163",
   "metadata": {},
   "outputs": [
    {
     "name": "stdout",
     "output_type": "stream",
     "text": [
      "<class 'pandas.core.frame.DataFrame'>\n",
      "Int64Index: 322 entries, 0 to 335\n",
      "Data columns (total 3 columns):\n",
      " #   Column                                   Non-Null Count  Dtype  \n",
      "---  ------                                   --------------  -----  \n",
      " 0   country                                  322 non-null    object \n",
      " 1   year                                     322 non-null    float64\n",
      " 2   UHC index of essential service coverage  322 non-null    float64\n",
      "dtypes: float64(2), object(1)\n",
      "memory usage: 10.1+ KB\n"
     ]
    }
   ],
   "source": [
    "df4.info()"
   ]
  },
  {
   "cell_type": "code",
   "execution_count": 37,
   "id": "e8a261bc",
   "metadata": {},
   "outputs": [],
   "source": [
    "df4.to_csv(\"Clean_UHC.csv\", index=False)"
   ]
  },
  {
   "cell_type": "code",
   "execution_count": 38,
   "id": "f473f6df",
   "metadata": {},
   "outputs": [],
   "source": [
    "sql=\"\"\"SELECT * FROM \"maternalMortalityRatio\"\n",
    " \"\"\""
   ]
  },
  {
   "cell_type": "code",
   "execution_count": 39,
   "id": "1529e46e",
   "metadata": {},
   "outputs": [
    {
     "name": "stderr",
     "output_type": "stream",
     "text": [
      "C:\\Users\\lkq07\\anaconda3\\lib\\site-packages\\pandas\\io\\sql.py:762: UserWarning: pandas only support SQLAlchemy connectable(engine/connection) ordatabase string URI or sqlite3 DBAPI2 connectionother DBAPI2 objects are not tested, please consider using SQLAlchemy\n",
      "  warnings.warn(\n"
     ]
    },
    {
     "data": {
      "text/html": [
       "<div>\n",
       "<style scoped>\n",
       "    .dataframe tbody tr th:only-of-type {\n",
       "        vertical-align: middle;\n",
       "    }\n",
       "\n",
       "    .dataframe tbody tr th {\n",
       "        vertical-align: top;\n",
       "    }\n",
       "\n",
       "    .dataframe thead th {\n",
       "        text-align: right;\n",
       "    }\n",
       "</style>\n",
       "<table border=\"1\" class=\"dataframe\">\n",
       "  <thead>\n",
       "    <tr style=\"text-align: right;\">\n",
       "      <th></th>\n",
       "      <th>country</th>\n",
       "      <th>Period</th>\n",
       "      <th>Indicator</th>\n",
       "      <th>First Tooltip</th>\n",
       "    </tr>\n",
       "  </thead>\n",
       "  <tbody>\n",
       "    <tr>\n",
       "      <th>0</th>\n",
       "      <td>Afghanistan</td>\n",
       "      <td>2017.0</td>\n",
       "      <td>Maternal mortality ratio (per 100 000 live bir...</td>\n",
       "      <td>638 [427-1010]</td>\n",
       "    </tr>\n",
       "    <tr>\n",
       "      <th>1</th>\n",
       "      <td>Afghanistan</td>\n",
       "      <td>2016.0</td>\n",
       "      <td>Maternal mortality ratio (per 100 000 live bir...</td>\n",
       "      <td>673 [457-1040]</td>\n",
       "    </tr>\n",
       "    <tr>\n",
       "      <th>2</th>\n",
       "      <td>Afghanistan</td>\n",
       "      <td>2015.0</td>\n",
       "      <td>Maternal mortality ratio (per 100 000 live bir...</td>\n",
       "      <td>701 [501-1020]</td>\n",
       "    </tr>\n",
       "    <tr>\n",
       "      <th>3</th>\n",
       "      <td>Afghanistan</td>\n",
       "      <td>2014.0</td>\n",
       "      <td>Maternal mortality ratio (per 100 000 live bir...</td>\n",
       "      <td>786 [592-1080]</td>\n",
       "    </tr>\n",
       "    <tr>\n",
       "      <th>4</th>\n",
       "      <td>Afghanistan</td>\n",
       "      <td>2013.0</td>\n",
       "      <td>Maternal mortality ratio (per 100 000 live bir...</td>\n",
       "      <td>810 [617-1080]</td>\n",
       "    </tr>\n",
       "    <tr>\n",
       "      <th>...</th>\n",
       "      <td>...</td>\n",
       "      <td>...</td>\n",
       "      <td>...</td>\n",
       "      <td>...</td>\n",
       "    </tr>\n",
       "    <tr>\n",
       "      <th>3289</th>\n",
       "      <td>Zimbabwe</td>\n",
       "      <td>2004.0</td>\n",
       "      <td>Maternal mortality ratio (per 100 000 live bir...</td>\n",
       "      <td>686 [597-784]</td>\n",
       "    </tr>\n",
       "    <tr>\n",
       "      <th>3290</th>\n",
       "      <td>Zimbabwe</td>\n",
       "      <td>2003.0</td>\n",
       "      <td>Maternal mortality ratio (per 100 000 live bir...</td>\n",
       "      <td>680 [590-779]</td>\n",
       "    </tr>\n",
       "    <tr>\n",
       "      <th>3291</th>\n",
       "      <td>Zimbabwe</td>\n",
       "      <td>2002.0</td>\n",
       "      <td>Maternal mortality ratio (per 100 000 live bir...</td>\n",
       "      <td>666 [577-766]</td>\n",
       "    </tr>\n",
       "    <tr>\n",
       "      <th>3292</th>\n",
       "      <td>Zimbabwe</td>\n",
       "      <td>2001.0</td>\n",
       "      <td>Maternal mortality ratio (per 100 000 live bir...</td>\n",
       "      <td>629 [544-723]</td>\n",
       "    </tr>\n",
       "    <tr>\n",
       "      <th>3293</th>\n",
       "      <td>Zimbabwe</td>\n",
       "      <td>2000.0</td>\n",
       "      <td>Maternal mortality ratio (per 100 000 live bir...</td>\n",
       "      <td>579 [500-667]</td>\n",
       "    </tr>\n",
       "  </tbody>\n",
       "</table>\n",
       "<p>3294 rows × 4 columns</p>\n",
       "</div>"
      ],
      "text/plain": [
       "          country  Period                                          Indicator  \\\n",
       "0     Afghanistan  2017.0  Maternal mortality ratio (per 100 000 live bir...   \n",
       "1     Afghanistan  2016.0  Maternal mortality ratio (per 100 000 live bir...   \n",
       "2     Afghanistan  2015.0  Maternal mortality ratio (per 100 000 live bir...   \n",
       "3     Afghanistan  2014.0  Maternal mortality ratio (per 100 000 live bir...   \n",
       "4     Afghanistan  2013.0  Maternal mortality ratio (per 100 000 live bir...   \n",
       "...           ...     ...                                                ...   \n",
       "3289     Zimbabwe  2004.0  Maternal mortality ratio (per 100 000 live bir...   \n",
       "3290     Zimbabwe  2003.0  Maternal mortality ratio (per 100 000 live bir...   \n",
       "3291     Zimbabwe  2002.0  Maternal mortality ratio (per 100 000 live bir...   \n",
       "3292     Zimbabwe  2001.0  Maternal mortality ratio (per 100 000 live bir...   \n",
       "3293     Zimbabwe  2000.0  Maternal mortality ratio (per 100 000 live bir...   \n",
       "\n",
       "       First Tooltip  \n",
       "0     638 [427-1010]  \n",
       "1     673 [457-1040]  \n",
       "2     701 [501-1020]  \n",
       "3     786 [592-1080]  \n",
       "4     810 [617-1080]  \n",
       "...              ...  \n",
       "3289   686 [597-784]  \n",
       "3290   680 [590-779]  \n",
       "3291   666 [577-766]  \n",
       "3292   629 [544-723]  \n",
       "3293   579 [500-667]  \n",
       "\n",
       "[3294 rows x 4 columns]"
      ]
     },
     "execution_count": 39,
     "metadata": {},
     "output_type": "execute_result"
    }
   ],
   "source": [
    "df5=sqlio.read_sql_query(sql,conn2)\n",
    "df5"
   ]
  },
  {
   "cell_type": "code",
   "execution_count": 40,
   "id": "fac17651",
   "metadata": {},
   "outputs": [
    {
     "name": "stdout",
     "output_type": "stream",
     "text": [
      "<class 'pandas.core.frame.DataFrame'>\n",
      "RangeIndex: 3294 entries, 0 to 3293\n",
      "Data columns (total 4 columns):\n",
      " #   Column         Non-Null Count  Dtype  \n",
      "---  ------         --------------  -----  \n",
      " 0   country        3294 non-null   object \n",
      " 1   Period         3294 non-null   float64\n",
      " 2   Indicator      3294 non-null   object \n",
      " 3   First Tooltip  3294 non-null   object \n",
      "dtypes: float64(1), object(3)\n",
      "memory usage: 103.1+ KB\n"
     ]
    },
    {
     "data": {
      "text/plain": [
       "country           object\n",
       "Period           float64\n",
       "Indicator         object\n",
       "First Tooltip     object\n",
       "dtype: object"
      ]
     },
     "execution_count": 40,
     "metadata": {},
     "output_type": "execute_result"
    }
   ],
   "source": [
    "df5.info()\n",
    "df5.dtypes"
   ]
  },
  {
   "cell_type": "code",
   "execution_count": 41,
   "id": "4cd5a5cb",
   "metadata": {},
   "outputs": [
    {
     "data": {
      "text/plain": [
       "<AxesSubplot:>"
      ]
     },
     "execution_count": 41,
     "metadata": {},
     "output_type": "execute_result"
    },
    {
     "data": {
      "image/png": "[encoded data removed]",
      "text/plain": [
       "<Figure size 2500x1000 with 2 Axes>"
      ]
     },
     "metadata": {},
     "output_type": "display_data"
    }
   ],
   "source": [
    "msno.matrix(df5)"
   ]
  },
  {
   "cell_type": "code",
   "execution_count": 42,
   "id": "65786fed",
   "metadata": {},
   "outputs": [
    {
     "name": "stdout",
     "output_type": "stream",
     "text": [
      "          country    year  Mean(Maternal mortality ratio)  \\\n",
      "0     Afghanistan  2017.0                             638   \n",
      "1     Afghanistan  2016.0                             673   \n",
      "2     Afghanistan  2015.0                             701   \n",
      "3     Afghanistan  2014.0                             786   \n",
      "4     Afghanistan  2013.0                             810   \n",
      "...           ...     ...                             ...   \n",
      "3289     Zimbabwe  2004.0                             686   \n",
      "3290     Zimbabwe  2003.0                             680   \n",
      "3291     Zimbabwe  2002.0                             666   \n",
      "3292     Zimbabwe  2001.0                             629   \n",
      "3293     Zimbabwe  2000.0                             579   \n",
      "\n",
      "      Lower Bound(Maternal mortality ratio)  \\\n",
      "0                                       427   \n",
      "1                                       457   \n",
      "2                                       501   \n",
      "3                                       592   \n",
      "4                                       617   \n",
      "...                                     ...   \n",
      "3289                                    597   \n",
      "3290                                    590   \n",
      "3291                                    577   \n",
      "3292                                    544   \n",
      "3293                                    500   \n",
      "\n",
      "      Upper Bound(Maternal mortality ratio)  \n",
      "0                                      1010  \n",
      "1                                      1040  \n",
      "2                                      1020  \n",
      "3                                      1080  \n",
      "4                                      1080  \n",
      "...                                     ...  \n",
      "3289                                    784  \n",
      "3290                                    779  \n",
      "3291                                    766  \n",
      "3292                                    723  \n",
      "3293                                    667  \n",
      "\n",
      "[3294 rows x 5 columns]\n"
     ]
    }
   ],
   "source": [
    "# Define the pattern for splitting\n",
    "pattern = r'(\\d+(?:\\.\\d+)?)\\s+\\[(\\d+(?:\\.\\d+)?)-(\\d+(?:\\.\\d+)?)\\]'\n",
    "\n",
    "# Apply the pattern to the \"First Tooltip\" column\n",
    "split_values = df5['First Tooltip'].str.extract(pattern)\n",
    "\n",
    "# Assign the split values to new columns\n",
    "df5['Mean(Maternal mortality ratio)'] = pd.to_numeric(split_values[0])\n",
    "df5['Lower Bound(Maternal mortality ratio)'] = pd.to_numeric(split_values[1])\n",
    "df5['Upper Bound(Maternal mortality ratio)'] = pd.to_numeric(split_values[2])\n",
    "df5 = df5.rename(columns={'Period': 'year'})\n",
    "# Drop the original \"First Tooltip\" column\n",
    "df5 = df5.drop('First Tooltip', axis=1)\n",
    "df5 = df5.drop('Indicator', axis=1)\n",
    "# Print the modified DataFrame\n",
    "print(df5)\n"
   ]
  },
  {
   "cell_type": "code",
   "execution_count": 43,
   "id": "18970358",
   "metadata": {},
   "outputs": [
    {
     "name": "stdout",
     "output_type": "stream",
     "text": [
      "<class 'pandas.core.frame.DataFrame'>\n",
      "RangeIndex: 3294 entries, 0 to 3293\n",
      "Data columns (total 5 columns):\n",
      " #   Column                                 Non-Null Count  Dtype  \n",
      "---  ------                                 --------------  -----  \n",
      " 0   country                                3294 non-null   object \n",
      " 1   year                                   3294 non-null   float64\n",
      " 2   Mean(Maternal mortality ratio)         3294 non-null   int64  \n",
      " 3   Lower Bound(Maternal mortality ratio)  3294 non-null   int64  \n",
      " 4   Upper Bound(Maternal mortality ratio)  3294 non-null   int64  \n",
      "dtypes: float64(1), int64(3), object(1)\n",
      "memory usage: 128.8+ KB\n"
     ]
    }
   ],
   "source": [
    "df5.info()"
   ]
  },
  {
   "cell_type": "code",
   "execution_count": 44,
   "id": "721f0cd7",
   "metadata": {},
   "outputs": [],
   "source": [
    "df5.to_csv(\"Clean_Maternal_mortality_ratio.csv\", index=False)"
   ]
  },
  {
   "cell_type": "code",
   "execution_count": 45,
   "id": "27359bd9",
   "metadata": {},
   "outputs": [],
   "source": [
    "sql=\"\"\"SELECT * FROM \"under5MortalityRate\"\n",
    " \"\"\""
   ]
  },
  {
   "cell_type": "code",
   "execution_count": 46,
   "id": "0d5c7942",
   "metadata": {},
   "outputs": [
    {
     "name": "stderr",
     "output_type": "stream",
     "text": [
      "C:\\Users\\lkq07\\anaconda3\\lib\\site-packages\\pandas\\io\\sql.py:762: UserWarning: pandas only support SQLAlchemy connectable(engine/connection) ordatabase string URI or sqlite3 DBAPI2 connectionother DBAPI2 objects are not tested, please consider using SQLAlchemy\n",
      "  warnings.warn(\n"
     ]
    },
    {
     "data": {
      "text/html": [
       "<div>\n",
       "<style scoped>\n",
       "    .dataframe tbody tr th:only-of-type {\n",
       "        vertical-align: middle;\n",
       "    }\n",
       "\n",
       "    .dataframe tbody tr th {\n",
       "        vertical-align: top;\n",
       "    }\n",
       "\n",
       "    .dataframe thead th {\n",
       "        text-align: right;\n",
       "    }\n",
       "</style>\n",
       "<table border=\"1\" class=\"dataframe\">\n",
       "  <thead>\n",
       "    <tr style=\"text-align: right;\">\n",
       "      <th></th>\n",
       "      <th>country</th>\n",
       "      <th>Period</th>\n",
       "      <th>Indicator</th>\n",
       "      <th>Dim1</th>\n",
       "      <th>First Tooltip</th>\n",
       "    </tr>\n",
       "  </thead>\n",
       "  <tbody>\n",
       "    <tr>\n",
       "      <th>0</th>\n",
       "      <td>Afghanistan</td>\n",
       "      <td>2019.0</td>\n",
       "      <td>Under-five mortality rate (probability of dyin...</td>\n",
       "      <td>Both sexes</td>\n",
       "      <td>60.27 [47.44-74.62]</td>\n",
       "    </tr>\n",
       "    <tr>\n",
       "      <th>1</th>\n",
       "      <td>Afghanistan</td>\n",
       "      <td>2019.0</td>\n",
       "      <td>Under-five mortality rate (probability of dyin...</td>\n",
       "      <td>Male</td>\n",
       "      <td>63.83 [50.04-79.16]</td>\n",
       "    </tr>\n",
       "    <tr>\n",
       "      <th>2</th>\n",
       "      <td>Afghanistan</td>\n",
       "      <td>2019.0</td>\n",
       "      <td>Under-five mortality rate (probability of dyin...</td>\n",
       "      <td>Female</td>\n",
       "      <td>56.57 [44.54-70.18]</td>\n",
       "    </tr>\n",
       "    <tr>\n",
       "      <th>3</th>\n",
       "      <td>Afghanistan</td>\n",
       "      <td>2018.0</td>\n",
       "      <td>Under-five mortality rate (probability of dyin...</td>\n",
       "      <td>Both sexes</td>\n",
       "      <td>62.54 [50.64-75.41]</td>\n",
       "    </tr>\n",
       "    <tr>\n",
       "      <th>4</th>\n",
       "      <td>Afghanistan</td>\n",
       "      <td>2018.0</td>\n",
       "      <td>Under-five mortality rate (probability of dyin...</td>\n",
       "      <td>Male</td>\n",
       "      <td>66.08 [53.41-79.76]</td>\n",
       "    </tr>\n",
       "    <tr>\n",
       "      <th>...</th>\n",
       "      <td>...</td>\n",
       "      <td>...</td>\n",
       "      <td>...</td>\n",
       "      <td>...</td>\n",
       "      <td>...</td>\n",
       "    </tr>\n",
       "    <tr>\n",
       "      <th>29994</th>\n",
       "      <td>Timor-Leste</td>\n",
       "      <td>2002.0</td>\n",
       "      <td>Under-five mortality rate (probability of dyin...</td>\n",
       "      <td>Both sexes</td>\n",
       "      <td>96.97 [87.36-107.7]</td>\n",
       "    </tr>\n",
       "    <tr>\n",
       "      <th>29995</th>\n",
       "      <td>Timor-Leste</td>\n",
       "      <td>2002.0</td>\n",
       "      <td>Under-five mortality rate (probability of dyin...</td>\n",
       "      <td>Male</td>\n",
       "      <td>102.6 [92.14-114]</td>\n",
       "    </tr>\n",
       "    <tr>\n",
       "      <th>29996</th>\n",
       "      <td>Timor-Leste</td>\n",
       "      <td>2002.0</td>\n",
       "      <td>Under-five mortality rate (probability of dyin...</td>\n",
       "      <td>Female</td>\n",
       "      <td>91.04 [81.92-101.5]</td>\n",
       "    </tr>\n",
       "    <tr>\n",
       "      <th>29997</th>\n",
       "      <td>Timor-Leste</td>\n",
       "      <td>2001.0</td>\n",
       "      <td>Under-five mortality rate (probability of dyin...</td>\n",
       "      <td>Both sexes</td>\n",
       "      <td>102.5 [92.72-113.3]</td>\n",
       "    </tr>\n",
       "    <tr>\n",
       "      <th>29998</th>\n",
       "      <td>Timor-Leste</td>\n",
       "      <td>2001.0</td>\n",
       "      <td>Under-five mortality rate (probability of dyin...</td>\n",
       "      <td>Male</td>\n",
       "      <td>108.2 [97.57-120]</td>\n",
       "    </tr>\n",
       "  </tbody>\n",
       "</table>\n",
       "<p>29999 rows × 5 columns</p>\n",
       "</div>"
      ],
      "text/plain": [
       "           country  Period                                          Indicator  \\\n",
       "0      Afghanistan  2019.0  Under-five mortality rate (probability of dyin...   \n",
       "1      Afghanistan  2019.0  Under-five mortality rate (probability of dyin...   \n",
       "2      Afghanistan  2019.0  Under-five mortality rate (probability of dyin...   \n",
       "3      Afghanistan  2018.0  Under-five mortality rate (probability of dyin...   \n",
       "4      Afghanistan  2018.0  Under-five mortality rate (probability of dyin...   \n",
       "...            ...     ...                                                ...   \n",
       "29994  Timor-Leste  2002.0  Under-five mortality rate (probability of dyin...   \n",
       "29995  Timor-Leste  2002.0  Under-five mortality rate (probability of dyin...   \n",
       "29996  Timor-Leste  2002.0  Under-five mortality rate (probability of dyin...   \n",
       "29997  Timor-Leste  2001.0  Under-five mortality rate (probability of dyin...   \n",
       "29998  Timor-Leste  2001.0  Under-five mortality rate (probability of dyin...   \n",
       "\n",
       "             Dim1        First Tooltip  \n",
       "0      Both sexes  60.27 [47.44-74.62]  \n",
       "1            Male  63.83 [50.04-79.16]  \n",
       "2          Female  56.57 [44.54-70.18]  \n",
       "3      Both sexes  62.54 [50.64-75.41]  \n",
       "4            Male  66.08 [53.41-79.76]  \n",
       "...           ...                  ...  \n",
       "29994  Both sexes  96.97 [87.36-107.7]  \n",
       "29995        Male    102.6 [92.14-114]  \n",
       "29996      Female  91.04 [81.92-101.5]  \n",
       "29997  Both sexes  102.5 [92.72-113.3]  \n",
       "29998        Male    108.2 [97.57-120]  \n",
       "\n",
       "[29999 rows x 5 columns]"
      ]
     },
     "execution_count": 46,
     "metadata": {},
     "output_type": "execute_result"
    }
   ],
   "source": [
    "df6=sqlio.read_sql_query(sql,conn2)\n",
    "df6"
   ]
  },
  {
   "cell_type": "code",
   "execution_count": 47,
   "id": "66d8e930",
   "metadata": {},
   "outputs": [
    {
     "name": "stdout",
     "output_type": "stream",
     "text": [
      "<class 'pandas.core.frame.DataFrame'>\n",
      "RangeIndex: 29999 entries, 0 to 29998\n",
      "Data columns (total 5 columns):\n",
      " #   Column         Non-Null Count  Dtype  \n",
      "---  ------         --------------  -----  \n",
      " 0   country        29999 non-null  object \n",
      " 1   Period         29999 non-null  float64\n",
      " 2   Indicator      29999 non-null  object \n",
      " 3   Dim1           29999 non-null  object \n",
      " 4   First Tooltip  29999 non-null  object \n",
      "dtypes: float64(1), object(4)\n",
      "memory usage: 1.1+ MB\n"
     ]
    },
    {
     "data": {
      "text/plain": [
       "country           object\n",
       "Period           float64\n",
       "Indicator         object\n",
       "Dim1              object\n",
       "First Tooltip     object\n",
       "dtype: object"
      ]
     },
     "execution_count": 47,
     "metadata": {},
     "output_type": "execute_result"
    }
   ],
   "source": [
    "df6.info()\n",
    "df6.dtypes"
   ]
  },
  {
   "cell_type": "code",
   "execution_count": 48,
   "id": "a04d0141",
   "metadata": {},
   "outputs": [
    {
     "data": {
      "text/plain": [
       "<AxesSubplot:>"
      ]
     },
     "execution_count": 48,
     "metadata": {},
     "output_type": "execute_result"
    },
    {
     "data": {
      "image/png": "[encoded data removed]",
      "text/plain": [
       "<Figure size 2500x1000 with 2 Axes>"
      ]
     },
     "metadata": {},
     "output_type": "display_data"
    }
   ],
   "source": [
    "msno.matrix(df6)"
   ]
  },
  {
   "cell_type": "code",
   "execution_count": 49,
   "id": "026b27ae",
   "metadata": {},
   "outputs": [
    {
     "name": "stdout",
     "output_type": "stream",
     "text": [
      "           country    year        Dim1  Mean(Under_5_Mortality_Rate)  \\\n",
      "0      Afghanistan  2019.0  Both sexes                         60.27   \n",
      "1      Afghanistan  2019.0        Male                         63.83   \n",
      "2      Afghanistan  2019.0      Female                         56.57   \n",
      "3      Afghanistan  2018.0  Both sexes                         62.54   \n",
      "4      Afghanistan  2018.0        Male                         66.08   \n",
      "...            ...     ...         ...                           ...   \n",
      "29994  Timor-Leste  2002.0  Both sexes                         96.97   \n",
      "29995  Timor-Leste  2002.0        Male                        102.60   \n",
      "29996  Timor-Leste  2002.0      Female                         91.04   \n",
      "29997  Timor-Leste  2001.0  Both sexes                        102.50   \n",
      "29998  Timor-Leste  2001.0        Male                        108.20   \n",
      "\n",
      "       Lower Bound(Under_5_Mortality_Rate)  \\\n",
      "0                                    47.44   \n",
      "1                                    50.04   \n",
      "2                                    44.54   \n",
      "3                                    50.64   \n",
      "4                                    53.41   \n",
      "...                                    ...   \n",
      "29994                                87.36   \n",
      "29995                                92.14   \n",
      "29996                                81.92   \n",
      "29997                                92.72   \n",
      "29998                                97.57   \n",
      "\n",
      "       Upper Bound(Under_5_Mortality_Rate)  \n",
      "0                                    74.62  \n",
      "1                                    79.16  \n",
      "2                                    70.18  \n",
      "3                                    75.41  \n",
      "4                                    79.76  \n",
      "...                                    ...  \n",
      "29994                               107.70  \n",
      "29995                               114.00  \n",
      "29996                               101.50  \n",
      "29997                               113.30  \n",
      "29998                               120.00  \n",
      "\n",
      "[29999 rows x 6 columns]\n"
     ]
    }
   ],
   "source": [
    "# Define the pattern for splitting\n",
    "pattern = r'(\\d+(?:\\.\\d+)?)\\s+\\[(\\d+(?:\\.\\d+)?)-(\\d+(?:\\.\\d+)?)\\]'\n",
    "\n",
    "# Apply the pattern to the \"First Tooltip\" column\n",
    "split_values = df6['First Tooltip'].str.extract(pattern)\n",
    "\n",
    "# Assign the split values to new columns\n",
    "df6['Mean(Under_5_Mortality_Rate)'] = pd.to_numeric(split_values[0])\n",
    "df6['Lower Bound(Under_5_Mortality_Rate)'] = pd.to_numeric(split_values[1])\n",
    "df6['Upper Bound(Under_5_Mortality_Rate)'] = pd.to_numeric(split_values[2])\n",
    "df6 = df6.rename(columns={'Period': 'year'})\n",
    "# Drop the original \"First Tooltip\" column\n",
    "df6 = df6.drop('First Tooltip', axis=1)\n",
    "df6 = df6.drop('Indicator', axis=1)\n",
    "# Print the modified DataFrame\n",
    "print(df6)"
   ]
  },
  {
   "cell_type": "code",
   "execution_count": 50,
   "id": "95addcf7",
   "metadata": {},
   "outputs": [
    {
     "name": "stdout",
     "output_type": "stream",
     "text": [
      "<class 'pandas.core.frame.DataFrame'>\n",
      "RangeIndex: 29999 entries, 0 to 29998\n",
      "Data columns (total 6 columns):\n",
      " #   Column                               Non-Null Count  Dtype  \n",
      "---  ------                               --------------  -----  \n",
      " 0   country                              29999 non-null  object \n",
      " 1   year                                 29999 non-null  float64\n",
      " 2   Dim1                                 29999 non-null  object \n",
      " 3   Mean(Under_5_Mortality_Rate)         29999 non-null  float64\n",
      " 4   Lower Bound(Under_5_Mortality_Rate)  29999 non-null  float64\n",
      " 5   Upper Bound(Under_5_Mortality_Rate)  29999 non-null  float64\n",
      "dtypes: float64(4), object(2)\n",
      "memory usage: 1.4+ MB\n"
     ]
    }
   ],
   "source": [
    "df6.info()"
   ]
  },
  {
   "cell_type": "code",
   "execution_count": 51,
   "id": "caf02f57",
   "metadata": {},
   "outputs": [],
   "source": [
    "df6.to_csv(\"Clean_Under_5_Mortality_Rate.csv\",index=False)"
   ]
  },
  {
   "cell_type": "code",
   "execution_count": null,
   "id": "e47a785b",
   "metadata": {},
   "outputs": [],
   "source": []
  }
 ],
 "metadata": {
  "kernelspec": {
   "display_name": "Python 3 (ipykernel)",
   "language": "python",
   "name": "python3"
  },
  "language_info": {
   "codemirror_mode": {
    "name": "ipython",
    "version": 3
   },
   "file_extension": ".py",
   "mimetype": "text/x-python",
   "name": "python",
   "nbconvert_exporter": "python",
   "pygments_lexer": "ipython3",
   "version": "3.9.13"
  }
 },
 "nbformat": 4,
 "nbformat_minor": 5
}
